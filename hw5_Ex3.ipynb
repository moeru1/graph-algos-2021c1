{
 "cells": [
  {
   "cell_type": "code",
   "execution_count": 151,
   "metadata": {},
   "outputs": [],
   "source": [
    "#retorna verdadero si fue posible remover un arbol\n",
    "#generador, en caso contrario retorna falso\n",
    "def remueve_arbol_generador(G, v):\n",
    "    marcado = [False for i in G.vertices()]\n",
    "    num_marcados = 0\n",
    "    \n",
    "    def remueve_arbol_gen(v):\n",
    "        nonlocal marcado\n",
    "        nonlocal num_marcados\n",
    "        marcado[v] = True\n",
    "        num_marcados += 1\n",
    "        for w in G.neighbor_iterator(v):\n",
    "            if (not marcado[w]):\n",
    "                G.delete_edge(v,w)\n",
    "                remueve_arbol_gen(w)\n",
    "    \n",
    "    remueve_arbol_gen(v)\n",
    "    return True if (num_marcados == len(G.vertices())) else False\n",
    "\n",
    "def cuenta_arboles_gen_disjuntos(G):\n",
    "    arboles = 0    \n",
    "    #tomamos un vertice arbitrario como raiz del arbol\n",
    "    #generador\n",
    "    G_cpy = G.copy()\n",
    "    while(remueve_arbol_generador(G_cpy,0)):\n",
    "        arboles += 1\n",
    "    return arboles\n",
    "\n",
    "#regresa un arreglo tal que a[i] = k si \n",
    "#y solo si el vértice i pertenece a la particion indexada en k\n",
    "def particion_aleatoria(N):\n",
    "    particion = [0 for i in range(0,N)]\n",
    "    for i in range(0,N):\n",
    "        #valor aleatorio en el rango [0, N)\n",
    "        particion[i] = randrange(0,N)\n",
    "    return particion\n",
    "\n",
    "def cuenta_cruzan_particion(G, particion):\n",
    "    cruzan = 0\n",
    "    # aristas u -> v \n",
    "    for (u, v, _) in G.edge_iterator():\n",
    "        #sus extremos estan en particiones distintas\n",
    "        if (particion[u] != particion[v]):\n",
    "            cruzan += 1\n",
    "    return cruzan\n",
    "\n"
   ]
  },
  {
   "cell_type": "code",
   "execution_count": 145,
   "metadata": {},
   "outputs": [],
   "source": [
    "G = graphs.RandomGNP(20, 0.5)"
   ]
  },
  {
   "cell_type": "code",
   "execution_count": 153,
   "metadata": {},
   "outputs": [
    {
     "data": {
      "text/plain": [
       "[Graph on 20 vertices,\n",
       " Graph on 20 vertices,\n",
       " Graph on 20 vertices,\n",
       " Graph on 20 vertices,\n",
       " Graph on 20 vertices]"
      ]
     },
     "execution_count": 153,
     "metadata": {},
     "output_type": "execute_result"
    }
   ],
   "source": [
    "G.edge_disjoint_spanning_trees(5)"
   ]
  },
  {
   "cell_type": "code",
   "execution_count": null,
   "metadata": {},
   "outputs": [],
   "source": []
  },
  {
   "cell_type": "code",
   "execution_count": null,
   "metadata": {},
   "outputs": [],
   "source": []
  },
  {
   "cell_type": "code",
   "execution_count": null,
   "metadata": {},
   "outputs": [],
   "source": []
  },
  {
   "cell_type": "code",
   "execution_count": null,
   "metadata": {},
   "outputs": [],
   "source": []
  },
  {
   "cell_type": "code",
   "execution_count": null,
   "metadata": {},
   "outputs": [],
   "source": []
  },
  {
   "cell_type": "code",
   "execution_count": null,
   "metadata": {},
   "outputs": [],
   "source": []
  },
  {
   "cell_type": "code",
   "execution_count": null,
   "metadata": {},
   "outputs": [],
   "source": []
  },
  {
   "cell_type": "code",
   "execution_count": 163,
   "metadata": {},
   "outputs": [
    {
     "data": {
      "text/plain": [
       "3"
      ]
     },
     "execution_count": 163,
     "metadata": {},
     "output_type": "execute_result"
    }
   ],
   "source": [
    "G_2_cpy = G_2.copy()\n",
    "cuenta_arboles_gen_disjuntos(G_2_cpy)"
   ]
  },
  {
   "cell_type": "code",
   "execution_count": null,
   "metadata": {},
   "outputs": [],
   "source": []
  },
  {
   "cell_type": "code",
   "execution_count": null,
   "metadata": {},
   "outputs": [],
   "source": []
  }
 ],
 "metadata": {
  "kernelspec": {
   "display_name": "SageMath 9.0",
   "language": "sage",
   "name": "sagemath"
  },
  "language_info": {
   "codemirror_mode": {
    "name": "ipython",
    "version": 3
   },
   "file_extension": ".py",
   "mimetype": "text/x-python",
   "name": "python",
   "nbconvert_exporter": "python",
   "pygments_lexer": "ipython3",
   "version": "3.8.5"
  }
 },
 "nbformat": 4,
 "nbformat_minor": 4
}
